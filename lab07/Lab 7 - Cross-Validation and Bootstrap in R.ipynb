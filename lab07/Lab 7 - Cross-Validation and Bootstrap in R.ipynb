{
 "cells": [
  {
   "cell_type": "markdown",
   "metadata": {},
   "source": [
    "This lab on Cross-Validation and Bootstrap in R comes from p. 190-197 of \"Introduction to Statistical Learning with\n",
    "Applications in R\" by Gareth James, Daniela Witten, Trevor Hastie and Robert Tibshirani"
   ]
  },
  {
   "cell_type": "code",
   "execution_count": null,
   "metadata": {
    "collapsed": true
   },
   "outputs": [],
   "source": [
    "library(ISLR)"
   ]
  },
  {
   "cell_type": "markdown",
   "metadata": {},
   "source": [
    "# 5.3.1 The Validation Set Approach"
   ]
  },
  {
   "cell_type": "markdown",
   "metadata": {},
   "source": [
    "In this section, we'll explore the use of the validation set approach in order to estimate the\n",
    "test error rates that result from fitting various linear models on the ${\\tt Auto}$ data set.\n",
    "\n",
    "Before we begin, we use the ${\\tt set.seed()}$ function in order to set a seed for\n",
    "${\\tt R}$’s random number generator, so that you'll obtain precisely the same results as those shown in the textbook. It is generally a good idea to set a random seed when performing an analysis such as cross-validation\n",
    "that contains an element of randomness, so that the results obtained can be reproduced precisely at a later time.\n",
    "\n",
    "We begin by using the ${\\tt sample()}$ function to split the set of observations\n",
    "into two halves, by selecting a random subset of 196 observations out of\n",
    "the original 392 observations. We refer to these observations as the training\n",
    "set."
   ]
  },
  {
   "cell_type": "code",
   "execution_count": null,
   "metadata": {
    "collapsed": true
   },
   "outputs": [],
   "source": [
    "set.seed(1)\n",
    "train=sample(392,196)"
   ]
  },
  {
   "cell_type": "markdown",
   "metadata": {},
   "source": [
    "(Here we used a shortcut in the ${\\tt sample()}$ command; see ${\\tt ?sample}$ for details.)\n",
    "\n",
    "We then use the subset option in ${\\tt lm()}$ to fit a linear regression using only\n",
    "the observations corresponding to the training set."
   ]
  },
  {
   "cell_type": "code",
   "execution_count": null,
   "metadata": {
    "collapsed": true
   },
   "outputs": [],
   "source": [
    "lm.fit=lm(mpg~horsepower,data=Auto,subset=train)"
   ]
  },
  {
   "cell_type": "markdown",
   "metadata": {},
   "source": [
    "We now use the ${\\tt predict()}$ function to estimate the response for the test\n",
    "observations, and we use the ${\\tt mean()}$ function to calculate the MSE of the\n",
    "196 observations in the validation set. Note that the ${\\tt -train}$ index below\n",
    "selects only the observations that are **not** in the training set."
   ]
  },
  {
   "cell_type": "code",
   "execution_count": null,
   "metadata": {
    "collapsed": false
   },
   "outputs": [],
   "source": [
    "mean((Auto$mpg-predict(lm.fit,Auto))[-train]^2)\n",
    "\n",
    "Auto %>% select(-train) %>%\n",
    "    mutate(error = mpg - predict(lm.fit, .),\n",
    "          MSE = error^2)\n",
    "library(broom)"
   ]
  },
  {
   "cell_type": "markdown",
   "metadata": {},
   "source": [
    "Therefore, the estimated test MSE for the linear regression fit is 26.14. We\n",
    "can use the ${\\tt poly()}$ function to estimate the test error for the polynomial\n",
    "and cubic regressions."
   ]
  },
  {
   "cell_type": "code",
   "execution_count": null,
   "metadata": {
    "collapsed": false
   },
   "outputs": [],
   "source": [
    "lm.fit2=lm(mpg~poly(horsepower,2),data=Auto,subset=train)\n",
    "mean((Auto$mpg-predict(lm.fit2,Auto))[-train]^2)\n",
    "lm.fit3=lm(mpg~poly(horsepower,3),data=Auto,subset=train)\n",
    "mean((Auto$mpg-predict(lm.fit3,Auto))[-train]^2)"
   ]
  },
  {
   "cell_type": "markdown",
   "metadata": {},
   "source": [
    "These error rates are 19.82 and 19.78, respectively. If we choose a different\n",
    "training set instead, then we will obtain somewhat different errors on the\n",
    "validation set. We can test this out by setting a different random seed:"
   ]
  },
  {
   "cell_type": "code",
   "execution_count": null,
   "metadata": {
    "collapsed": false
   },
   "outputs": [],
   "source": [
    "set.seed(2)\n",
    "train=sample(392,196)\n",
    "lm.fit=lm(mpg~horsepower,subset=train)\n",
    "mean((Auto$mpg-predict(lm.fit,Auto))[-train]^2)\n",
    "lm.fit2=lm(mpg~poly(horsepower,2),data=Auto,subset=train)\n",
    "mean((Auto$mpg-predict(lm.fit2,Auto))[-train]^2)\n",
    "lm.fit3=lm(mpg~poly(horsepower,3),data=Auto,subset=train)\n",
    "mean((Auto$mpg-predict(lm.fit3,Auto))[-train]^2)"
   ]
  },
  {
   "cell_type": "markdown",
   "metadata": {},
   "source": [
    "Using this split of the observations into a training set and a validation\n",
    "set, we find that the validation set error rates for the models with linear,\n",
    "quadratic, and cubic terms are 23.30, 18.90, and 19.26, respectively.\n",
    "\n",
    "These results are consistent with our previous findings: a model that\n",
    "predicts ${\\tt mpg}$ using a quadratic function of ${\\tt horsepower}$ performs better than\n",
    "a model that involves only a linear function of ${\\tt horsepower}$, and there is\n",
    "little evidence in favor of a model that uses a cubic function of ${\\tt horsepower}$."
   ]
  },
  {
   "cell_type": "markdown",
   "metadata": {},
   "source": [
    "# 5.3.2 Leave-One-Out Cross-Validation"
   ]
  },
  {
   "cell_type": "markdown",
   "metadata": {},
   "source": [
    "The LOOCV estimate can be automatically computed for any generalized\n",
    "linear model using the ${\\tt glm()}$ and ${\\tt cv.glm()}$ functions. In the lab for Chapter 4, we used the ${\\tt glm()}$ function to perform logistic regression by passing\n",
    "in the ${\\tt family=\"binomial\"}$ argument. But if we use ${\\tt glm()}$ to fit a model\n",
    "without passing in the family argument, then it performs linear regression,\n",
    "just like the ${\\tt lm()}$ function. The following should yield identical models:"
   ]
  },
  {
   "cell_type": "code",
   "execution_count": null,
   "metadata": {
    "collapsed": false
   },
   "outputs": [],
   "source": [
    "glm.fit=glm(mpg~horsepower,data=Auto)\n",
    "coef(glm.fit)\n",
    "lm.fit=lm(mpg~horsepower,data=Auto)\n",
    "coef(lm.fit)"
   ]
  },
  {
   "cell_type": "markdown",
   "metadata": {},
   "source": [
    "In this lab, we will perform linear\n",
    "regression using the ${\\tt glm()}$ function rather than the ${\\tt lm()}$ function because\n",
    "the latter can be used together with ${\\tt cv.glm()}$ to perform cross-validation. The ${\\tt cv.glm()}$ function is\n",
    "part of the ${\\tt boot}$ library."
   ]
  },
  {
   "cell_type": "code",
   "execution_count": null,
   "metadata": {
    "collapsed": false
   },
   "outputs": [],
   "source": [
    "library(boot)\n",
    "glm.fit=glm(mpg~horsepower,data=Auto)\n",
    "cv.err=cv.glm(Auto,glm.fit)\n",
    "cv.err$delta"
   ]
  },
  {
   "cell_type": "markdown",
   "metadata": {},
   "source": [
    "The ${\\tt cv.glm()}$ function produces a list with several components. The two\n",
    "numbers in the delta vector contain the cross-validation results. In this case the numbers are identical (up to two decimal places) and correspond\n",
    "to the LOOCV statistic. Below, we'll discuss a situation in\n",
    "which the two numbers differ. Our cross-validation estimate for the test\n",
    "error is approximately 24.23.\n",
    "\n",
    "We can repeat this procedure for increasingly complex polynomial fits.\n",
    "To automate the process, we use the ${\\tt for()}$ function to initiate a for loop\n",
    "which iteratively fits polynomial regressions for polynomials of order ${\\tt i = 1}$\n",
    "to ${\\tt i = 5}$ and computes the associated cross-validation error. \n",
    "\n",
    "This command may take a couple of minutes to run."
   ]
  },
  {
   "cell_type": "code",
   "execution_count": null,
   "metadata": {
    "collapsed": false
   },
   "outputs": [],
   "source": [
    "for (i in 1:5){\n",
    " glm.fit=glm(mpg~poly(horsepower,i),data=Auto)\n",
    " print(cv.glm(Auto,glm.fit)$delta)\n",
    "}"
   ]
  },
  {
   "cell_type": "markdown",
   "metadata": {},
   "source": [
    "Here we see a sharp drop in the estimated test MSE between\n",
    "the linear and quadratic fits, but then no clear improvement from using\n",
    "higher-order polynomials.\n",
    "\n",
    "# 5.3.3 k-Fold Cross-Validation\n",
    "\n",
    "The ${\\tt cv.glm()}$ function can also be used to implement $k$-fold CV. Below we\n",
    "use ${ k = 10}$, a common choice for $k$, on the ${\\tt Auto}$ data set. We once again set\n",
    "a random seed and initialize a vector in which we will store the CV errors\n",
    "corresponding to the polynomial fits of orders one to ten."
   ]
  },
  {
   "cell_type": "code",
   "execution_count": null,
   "metadata": {
    "collapsed": false
   },
   "outputs": [],
   "source": [
    "set.seed(17)\n",
    "\n",
    "for (i in 1:10){\n",
    " glm.fit=glm(mpg~poly(horsepower,i),data=Auto)\n",
    " print(cv.glm(Auto,glm.fit,K=10)$delta)\n",
    "}"
   ]
  },
  {
   "cell_type": "markdown",
   "metadata": {},
   "source": [
    "Notice that the computation time is **much** shorter than that of LOOCV.\n",
    "(In principle, the computation time for LOOCV for a least squares linear\n",
    "model should be faster than for $k$-fold CV, due to the availability of the\n",
    "formula (5.2) for LOOCV; however, unfortunately the ${\\tt cv.glm()}$ function\n",
    "does not make use of this formula.) We still see little evidence that using\n",
    "cubic or higher-order polynomial terms leads to lower test error than simply\n",
    "using a quadratic fit.\n",
    "\n",
    "We saw in Section 5.3.2 that the two numbers associated with delta are\n",
    "essentially the same when LOOCV is performed. When we instead perform\n",
    "$k$-fold CV, then the two numbers associated with delta differ slightly. The first is the standard $k$-fold CV estimate, as in (5.3). The second is a bias-corrected\n",
    "version. On this data set, the two estimates are very similar to\n",
    "each other."
   ]
  },
  {
   "cell_type": "markdown",
   "metadata": {},
   "source": [
    "# An Application to Default Data\n",
    "\n",
    "Now that you're armed with more useful technique for resampling your data, let's try fitting a model for the ${\\tt Default}$ dataset:"
   ]
  },
  {
   "cell_type": "code",
   "execution_count": null,
   "metadata": {
    "collapsed": false
   },
   "outputs": [],
   "source": [
    "summary(Default)"
   ]
  },
  {
   "cell_type": "markdown",
   "metadata": {},
   "source": [
    "First we'll try just holding out a random 20% of the data:"
   ]
  },
  {
   "cell_type": "code",
   "execution_count": null,
   "metadata": {
    "collapsed": false
   },
   "outputs": [],
   "source": [
    "for (i in 1:10){\n",
    "\n",
    "    set.seed(i)\n",
    "\n",
    "    train = sample(10000,8000)\n",
    "\n",
    "    # Fit a logistic regression to predict default using balance\n",
    "    glm.fit=glm(default~balance+student,data=Default, family=binomial, subset=train)\n",
    "\n",
    "    # Use the model to predict the response on the test data\n",
    "    glm.probs=predict(glm.fit,Default[-train,],type=\"response\")\n",
    "\n",
    "    # Confusion matrix\n",
    "    glm.pred=rep(\"No\",length(glm.probs))\n",
    "    glm.pred[glm.probs>.5]=\"Yes\"\n",
    "    #table(glm.pred,Default$default[-train])\n",
    "\n",
    "    # Error rate\n",
    "    print(mean(glm.pred!=Default$default[-train]))\n",
    "}"
   ]
  },
  {
   "cell_type": "markdown",
   "metadata": {},
   "source": [
    "Our error rate is really low on this data, but we're getting different error rates depending on how we choose our test set. That's no good!\n",
    "\n",
    "Unfortunately this dataset is too big for us to run LOOCV, so we'll have to settle for $k$-fold. In the space below, build a logistic model on the full ${\\tt Default}$ dataset and then run 5-fold cross-validation to get a more accurate estimate of your test error rate:"
   ]
  },
  {
   "cell_type": "code",
   "execution_count": null,
   "metadata": {
    "collapsed": false
   },
   "outputs": [],
   "source": [
    "# Your code here"
   ]
  },
  {
   "cell_type": "markdown",
   "metadata": {},
   "source": [
    "# 5.3.4 The Bootstrap\n",
    "\n",
    "We illustrate the use of the bootstrap in the simple example of Section 5.2,\n",
    "as well as on an example involving estimating the accuracy of the linear\n",
    "regression model on the ${\\tt Auto}$ data set.\n",
    "\n",
    "# Estimating the Accuracy of a Statistic of Interest\n",
    "\n",
    "One of the great advantages of the bootstrap approach is that it can be\n",
    "applied in almost all situations. No complicated mathematical calculations\n",
    "are required. Performing a bootstrap analysis in R entails only two steps.\n",
    "\n",
    "- First, we must create a function that computes the statistic of interest.\n",
    "- Second, we use the ${\\tt boot()}$ function, which is part of the boot library, to perform the bootstrap by repeatedly sampling observations from the data set with replacement.\n",
    "\n",
    "The ${\\tt Portfolio}$ data set in the ${\\tt ISLR}$ package is described in Section 5.2.\n",
    "To illustrate the use of the bootstrap on this data, we must first create\n",
    "a function, ${\\tt alpha.fn()}$, which takes as input the $(X,Y)$ data as well as\n",
    "a vector indicating which observations should be used to estimate $\\alpha$. The\n",
    "function then outputs the estimate for $\\alpha$ based on the selected observations."
   ]
  },
  {
   "cell_type": "code",
   "execution_count": null,
   "metadata": {
    "collapsed": true
   },
   "outputs": [],
   "source": [
    "alpha.fn=function(data,index){\n",
    "  X=data$X[index]\n",
    "  Y=data$Y[index]\n",
    "  return((var(Y)-cov(X,Y))/(var(X)+var(Y)-2*cov(X,Y)))\n",
    "}"
   ]
  },
  {
   "cell_type": "markdown",
   "metadata": {},
   "source": [
    "This function returns, or outputs, an estimate for $\\alpha$ based on applying\n",
    "(5.7) to the observations indexed by the argument index. For instance, the\n",
    "following command tells ${\\tt R}$ to estimate $\\alpha$ using all 100 observations."
   ]
  },
  {
   "cell_type": "code",
   "execution_count": null,
   "metadata": {
    "collapsed": false
   },
   "outputs": [],
   "source": [
    "alpha.fn(Portfolio,1:100)"
   ]
  },
  {
   "cell_type": "markdown",
   "metadata": {},
   "source": [
    "The next command uses the ${\\tt sample()}$ function to randomly select 100 observations\n",
    "from the range 1 to 100, with replacement. This is equivalent\n",
    "to constructing a new bootstrap data set and recomputing $\\hat{\\alpha}$ based on the\n",
    "new data set."
   ]
  },
  {
   "cell_type": "code",
   "execution_count": null,
   "metadata": {
    "collapsed": false
   },
   "outputs": [],
   "source": [
    "set.seed(1)\n",
    "alpha.fn(Portfolio,sample(100,100,replace=T))"
   ]
  },
  {
   "cell_type": "markdown",
   "metadata": {},
   "source": [
    "We can implement a bootstrap analysis by performing this command many\n",
    "times, recording all of the corresponding estimates for $\\alpha$, and computing the resulting standard deviation. However, the ${\\tt boot()}$ function automates\n",
    "this approach. Below we produce $R = 1,000$ bootstrap estimates for $\\alpha$:"
   ]
  },
  {
   "cell_type": "code",
   "execution_count": null,
   "metadata": {
    "collapsed": false
   },
   "outputs": [],
   "source": [
    "boot(Portfolio,alpha.fn,R=1000)"
   ]
  },
  {
   "cell_type": "markdown",
   "metadata": {},
   "source": [
    "The final output shows that using the original data, $\\hat{\\alpha} = 0.5758$, and that\n",
    "the bootstrap estimate for $SE(\\hat{\\alpha})$ is 0.0886.\n",
    "\n",
    "# Estimating the Accuracy of a Linear Regression Model\n",
    "\n",
    "The bootstrap approach can be used to assess the variability of the coefficient\n",
    "estimates and predictions from a statistical learning method. Here\n",
    "we use the bootstrap approach in order to assess the variability of the\n",
    "estimates for $\\beta_0$ and $\\beta_1$, the intercept and slope terms for the linear regression\n",
    "model that uses horsepower to predict mpg in the Auto data set. We\n",
    "will compare the estimates obtained using the bootstrap to those obtained\n",
    "using the formulas for $SE(\\hat{\\beta}_0)$ and $SE(\\hat{\\beta}_1)$ described in Section 3.1.2.\n",
    "\n",
    "We first create a simple function, ${\\tt boot.fn()}$, which takes in the ${\\tt Auto}$ data\n",
    "set as well as a set of indices for the observations, and returns the intercept\n",
    "and slope estimates for the linear regression model. We then apply this\n",
    "function to the full set of 392 observations in order to compute the estimates\n",
    "of $\\beta_0$ and $\\beta_1$ on the entire data set using the usual linear regression\n",
    "coefficient estimate formulas from Chapter 3. Note that we do not need the\n",
    "{ and } at the beginning and end of the function because it is only one line\n",
    "long:"
   ]
  },
  {
   "cell_type": "code",
   "execution_count": null,
   "metadata": {
    "collapsed": false
   },
   "outputs": [],
   "source": [
    "boot.fn=function(data,index) return(coef(lm(mpg~horsepower ,data=data ,subset =index)))\n",
    "boot.fn(Auto,1:392)"
   ]
  },
  {
   "cell_type": "markdown",
   "metadata": {},
   "source": [
    "The ${\\tt boot.fn()}$ function can also be used in order to create bootstrap estimates\n",
    "for the intercept and slope terms by randomly sampling from among\n",
    "the observations with replacement. Here we give two examples:"
   ]
  },
  {
   "cell_type": "code",
   "execution_count": null,
   "metadata": {
    "collapsed": false
   },
   "outputs": [],
   "source": [
    "set.seed(1)\n",
    "boot.fn(Auto,sample(392,392,replace=T))\n",
    "boot.fn(Auto,sample(392,392,replace=T))"
   ]
  },
  {
   "cell_type": "markdown",
   "metadata": {},
   "source": [
    "Next, we use the ${\\tt boot()}$ function to compute the standard errors of 1,000\n",
    "bootstrap estimates for the intercept and slope terms:"
   ]
  },
  {
   "cell_type": "code",
   "execution_count": null,
   "metadata": {
    "collapsed": false
   },
   "outputs": [],
   "source": [
    "boot(Auto,boot.fn,1000)"
   ]
  },
  {
   "cell_type": "markdown",
   "metadata": {},
   "source": [
    "This indicates that the bootstrap estimate for $SE(\\hat\\beta_0)$ is 0.86, and that\n",
    "the bootstrap estimate for $SE(\\hat\\beta_1)$ is 0.0074. As discussed in Section 3.1.2,\n",
    "standard formulas can be used to compute the standard errors for the\n",
    "regression coefficients in a linear model. These can be obtained using the\n",
    "${\\tt summary()}$ function:"
   ]
  },
  {
   "cell_type": "code",
   "execution_count": null,
   "metadata": {
    "collapsed": false
   },
   "outputs": [],
   "source": [
    "summary(lm(mpg~horsepower ,data=Auto))$coef"
   ]
  },
  {
   "cell_type": "markdown",
   "metadata": {},
   "source": [
    "Note that the standard error estimates produced by the ${\\tt summary()}$ function were somewhat different from the estimates obtained using the bootstrap. Does this indicate a problem with the bootstrap? In fact, it's just the opposite!\n",
    "\n",
    "Recall that we found previously that the relationship between ${\\tt horsepower}$ and ${\\tt mpg}$ is better characterized by a quadratic model. Let's see how the error rates compare when we fit that instead of a linear model:"
   ]
  },
  {
   "cell_type": "code",
   "execution_count": null,
   "metadata": {
    "collapsed": false
   },
   "outputs": [],
   "source": [
    "boot.fn=function(data,index) coefficients(lm(mpg~horsepower +I( horsepower ^2) ,data=data ,\n",
    "subset =index))\n",
    "set.seed(1)\n",
    "boot(Auto,boot.fn,1000)"
   ]
  },
  {
   "cell_type": "code",
   "execution_count": null,
   "metadata": {
    "collapsed": false
   },
   "outputs": [],
   "source": [
    "summary(lm(mpg~horsepower +I(horsepower ^2) ,data=Auto))$coef"
   ]
  },
  {
   "cell_type": "markdown",
   "metadata": {},
   "source": [
    "Since this model provides a good fit to the data, there is now a better correspondence between the bootstrap estimates and the standard estimates of $SE(\\hat\\beta_0), SE(\\hat\\beta_1)$ and $SE(\\hat\\beta_2)$.\n",
    "\n",
    "To get credit for this lab, please post your answers to the following questions:\n",
    "- How did the cross-validated error rate compare to the models where you held out a validation set? Why do you think that is?\n",
    "- How do you explain the discrepancy between the bootstrap evaluation and the standard error evaluation of the linear model predicting ${\\tt mpg}$ from ${\\tt horsepower}$?\n",
    "- What was the most confusing part of today's class?\n",
    "\n",
    "to Piazza: https://piazza.com/class/igwiv4w3ctb6rg?cid=27"
   ]
  }
 ],
 "metadata": {
  "kernelspec": {
   "display_name": "R",
   "language": "R",
   "name": "ir"
  },
  "language_info": {
   "codemirror_mode": "r",
   "file_extension": ".r",
   "mimetype": "text/x-r-source",
   "name": "R",
   "pygments_lexer": "r",
   "version": "3.2.2"
  }
 },
 "nbformat": 4,
 "nbformat_minor": 0
}
