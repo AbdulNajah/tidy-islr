{
 "cells": [
  {
   "cell_type": "markdown",
   "metadata": {},
   "source": [
    "This lab on K-Nearest Neighbors in R comes from p. 163-167 of \"Introduction to Statistical Learning with Applications in R\" by Gareth James, Daniela Witten, Trevor Hastie and Robert Tibshirani"
   ]
  },
  {
   "cell_type": "markdown",
   "metadata": {},
   "source": [
    "# 4.6.5: K-Nearest Neighbors"
   ]
  },
  {
   "cell_type": "markdown",
   "metadata": {},
   "source": [
    "In this lab, we will perform KNN on the ${\\tt Smarket}$ dataset from ${\\tt ISLR}$. This data set consists of percentage returns for the S&P 500 stock index over 1,250 days, from the\n",
    "beginning of 2001 until the end of 2005. For each date, we have recorded\n",
    "the percentage returns for each of the five previous trading days, ${\\tt Lag1}$\n",
    "through ${\\tt Lag5}$. We have also recorded ${\\tt Volume}$ (the number of shares traded on the previous day, in billions), ${\\tt Today}$ (the percentage return on the date\n",
    "in question) and ${\\tt Direction}$ (whether the market was ${\\tt Up}$ or ${\\tt Down}$ on this\n",
    "date). We can use the ${\\tt head(...)}$ function to look at the first few rows:"
   ]
  },
  {
   "cell_type": "code",
   "execution_count": null,
   "metadata": {
    "collapsed": false
   },
   "outputs": [],
   "source": [
    "library(ISLR)\n",
    "head(Smarket)"
   ]
  },
  {
   "cell_type": "markdown",
   "metadata": {},
   "source": [
    "Today we're going to try to predict ${\\tt Direction}$ using percentage returns from the previous two days (${\\tt Lag1}$ and ${\\tt Lag2}$). We'll build our model using the ${\\tt knn()}$ function, which is part of the\n",
    "${\\tt class}$ library:"
   ]
  },
  {
   "cell_type": "code",
   "execution_count": null,
   "metadata": {
    "collapsed": true
   },
   "outputs": [],
   "source": [
    "library(class)"
   ]
  },
  {
   "cell_type": "markdown",
   "metadata": {},
   "source": [
    "This function works rather differently from the other model-fitting\n",
    "functions that we have encountered thus far. Rather than a two-step\n",
    "approach in which we first fit the model and then we use the model to make\n",
    "predictions, ${\\tt knn()}$ forms predictions using a single command. The function\n",
    "requires four inputs.\n",
    "   1. A matrix containing the predictors associated with the training data,\n",
    "labeled ${\\tt train.X}$ below.\n",
    "   2. A matrix containing the predictors associated with the data for which\n",
    "we wish to make predictions, labeled ${\\tt test.X}$ below.\n",
    "   3. A vector containing the class labels for the training observations,\n",
    "labeled ${\\tt train.Direction}$ below.\n",
    "   4. A value for $K$, the number of nearest neighbors to be used by the\n",
    "classifier.\n",
    "\n",
    "We'll first create a vector corresponding to the observations from 2001 through 2004, which we'll use to train the model. We will then use this vector to create a held out data set of observations from 2005 on which we will test."
   ]
  },
  {
   "cell_type": "code",
   "execution_count": null,
   "metadata": {
    "collapsed": false
   },
   "outputs": [],
   "source": [
    "train=(Smarket$Year<2005)"
   ]
  },
  {
   "cell_type": "markdown",
   "metadata": {},
   "source": [
    "The object ${\\tt train}$ is a vector of 1,250 elements, corresponding to the observations\n",
    "in our data set. The elements of the vector that correspond to\n",
    "observations that occurred before 2005 are set to ${\\tt TRUE}$, whereas those that\n",
    "correspond to observations in 2005 are set to ${\\tt FALSE}$. \n",
    "\n",
    "The object train is a **Boolean vector**, since its elements are ${\\tt TRUE}$ and ${\\tt FALSE}$. Boolean vectors can be used to obtain a subset of the rows or columns of a matrix. For\n",
    "instance, the command ${\\tt Smarket[train,]}$ would pick out a submatrix of the\n",
    "stock market data set, corresponding only to the dates before 2005, since\n",
    "those are the ones for which the elements of train are ${\\tt TRUE}$:"
   ]
  },
  {
   "cell_type": "code",
   "execution_count": null,
   "metadata": {
    "collapsed": false
   },
   "outputs": [],
   "source": [
    "head(Smarket[train,])"
   ]
  },
  {
   "cell_type": "markdown",
   "metadata": {},
   "source": [
    "The ${\\tt !}$ symbol\n",
    "can be used to reverse all of the elements of a Boolean vector. That is,\n",
    "${\\tt !train}$ is a vector similar to ${\\tt train}$, except that the elements that are ${\\tt TRUE}$\n",
    "in train get swapped to ${\\tt FALSE}$ in ${\\tt !train}$, and the elements that are ${\\tt FALSE}$\n",
    "in train get swapped to ${\\tt TRUE}$ in ${\\tt !train}$. Therefore, ${\\tt Smarket[!train,]}$ yields\n",
    "a submatrix of the stock market data containing only the observations for\n",
    "which train is ${\\tt FALSE}$—that is, the observations with dates in 2005. The\n",
    "output below indicates that there are 252 such observations:"
   ]
  },
  {
   "cell_type": "code",
   "execution_count": null,
   "metadata": {
    "collapsed": false
   },
   "outputs": [],
   "source": [
    "dim(Smarket[!train,])"
   ]
  },
  {
   "cell_type": "markdown",
   "metadata": {},
   "source": [
    "Now we'll use the ${\\tt cbind()}$ function, short for column bind, to bind the ${\\tt Lag1}$ and ${\\tt Lag2}$ variables together into two matrices, one for the training set and the\n",
    "other for the test set. We'll also pull out our training labels."
   ]
  },
  {
   "cell_type": "code",
   "execution_count": null,
   "metadata": {
    "collapsed": false
   },
   "outputs": [],
   "source": [
    "train.X=cbind(Smarket$Lag1,Smarket$Lag2)[train,]\n",
    "test.X=cbind(Smarket$Lag1,Smarket$Lag2)[!train,]\n",
    "train.Direction=Smarket$Direction[train]"
   ]
  },
  {
   "cell_type": "markdown",
   "metadata": {},
   "source": [
    "Now the ${\\tt knn()}$ function can be used to predict the market’s movement for\n",
    "the dates in 2005. We set a **random seed** before we apply ${\\tt knn()}$ because\n",
    "if several observations are tied as nearest neighbors, then ${\\tt R}$ will randomly\n",
    "break the tie. Therefore, a seed must be set in order to ensure reproducibility\n",
    "of results."
   ]
  },
  {
   "cell_type": "code",
   "execution_count": null,
   "metadata": {
    "collapsed": true
   },
   "outputs": [],
   "source": [
    "set.seed(1)\n",
    "knn.pred=knn(train.X,test.X,train.Direction,k=1)"
   ]
  },
  {
   "cell_type": "markdown",
   "metadata": {},
   "source": [
    "The ${\\tt table()}$ function can be used to produce a **confusion matrix** in order to determine how many observations were correctly or incorrectly classified."
   ]
  },
  {
   "cell_type": "code",
   "execution_count": null,
   "metadata": {
    "collapsed": false
   },
   "outputs": [],
   "source": [
    "table(knn.pred,Smarket$Direction[!train])\n",
    "mean(knn.pred==Smarket$Direction[!train])"
   ]
  },
  {
   "cell_type": "markdown",
   "metadata": {},
   "source": [
    "The results using $K = 1$ are not very good, since only 50% of the observations\n",
    "are correctly predicted. Of course, it may be that $K = 1$ results in an\n",
    "overly flexible fit to the data. Below, we repeat the analysis using $K = 3$."
   ]
  },
  {
   "cell_type": "code",
   "execution_count": null,
   "metadata": {
    "collapsed": false
   },
   "outputs": [],
   "source": [
    "knn.pred=knn(train.X,test.X,train.Direction,k=3)\n",
    "table(knn.pred,Smarket$Direction[!train])\n",
    "mean(knn.pred==Smarket$Direction[!train])"
   ]
  },
  {
   "cell_type": "markdown",
   "metadata": {},
   "source": [
    "The results have improved slightly. Let's try a few other $K$ values to see if we get any further improvement:"
   ]
  },
  {
   "cell_type": "code",
   "execution_count": null,
   "metadata": {
    "collapsed": false
   },
   "outputs": [],
   "source": [
    "for (k_val in 1:10) {\n",
    "    set.seed(1)\n",
    "    # Your code here\n",
    "}"
   ]
  },
  {
   "cell_type": "markdown",
   "metadata": {},
   "source": [
    "It looks like for classifying this dataset, ${KNN}$ might not be the right approach."
   ]
  },
  {
   "cell_type": "markdown",
   "metadata": {},
   "source": [
    "# 4.6.6: An Application to Caravan Insurance Data\n",
    "Let's see how the ${\\tt KNN}$ approach performs on the ${\\tt Caravan}$ data set, which is\n",
    "part of the ${\\tt ISLR}$ library. This data set includes 85 predictors that measure demographic characteristics for 5,822 individuals. The response variable is\n",
    "${\\tt Purchase}$, which indicates whether or not a given individual purchases a\n",
    "caravan insurance policy. In this data set, only 6% of people purchased\n",
    "caravan insurance."
   ]
  },
  {
   "cell_type": "code",
   "execution_count": null,
   "metadata": {
    "collapsed": false
   },
   "outputs": [],
   "source": [
    "summary(Caravan$Purchase)"
   ]
  },
  {
   "cell_type": "markdown",
   "metadata": {},
   "source": [
    "Because the ${\\tt KNN}$ classifier predicts the class of a given test observation by\n",
    "identifying the observations that are nearest to it, the scale of the variables\n",
    "matters. Any variables that are on a large scale will have a much larger\n",
    "effect on the distance between the observations, and hence on the ${\\tt KNN}$\n",
    "classifier, than variables that are on a small scale. \n",
    "\n",
    "For instance, imagine a\n",
    "data set that contains two variables, salary and age (measured in dollars\n",
    "and years, respectively). As far as ${\\tt KNN}$ is concerned, a difference of \\$1,000\n",
    "in salary is enormous compared to a difference of 50 years in age. Consequently,\n",
    "salary will drive the ${\\tt KNN}$ classification results, and age will have\n",
    "almost no effect. \n",
    "\n",
    "This is contrary to our intuition that a salary difference\n",
    "of \\$1,000 is quite small compared to an age difference of 50 years. Furthermore,\n",
    "the importance of scale to the ${\\tt KNN}$ classifier leads to another issue:\n",
    "if we measured salary in Japanese yen, or if we measured age in minutes,\n",
    "then we’d get quite different classification results from what we get if these\n",
    "two variables are measured in dollars and years.\n",
    "\n",
    "A good way to handle this problem is to **standardize** the data so that all\n",
    "variables are given a mean of zero and a standard deviation of one. Then\n",
    "all variables will be on a comparable scale. The ${\\tt scale()}$ function does just\n",
    "this. In standardizing the data, we exclude column 86, because that is the\n",
    "qualitative ${\\tt Purchase}$ variable."
   ]
  },
  {
   "cell_type": "code",
   "execution_count": null,
   "metadata": {
    "collapsed": false
   },
   "outputs": [],
   "source": [
    "standardized.X=scale(Caravan[,-86])\n",
    "var(Caravan[,1])\n",
    "var(Caravan[,2])\n",
    "var(standardized.X[,1])\n",
    "var(standardized.X[,2])"
   ]
  },
  {
   "cell_type": "markdown",
   "metadata": {},
   "source": [
    "Now every column of ${\\tt standardized.X}$ has a standard deviation of one and\n",
    "a mean of zero.\n",
    "\n",
    "We'll now split the observations into a test set, containing the first 1,000\n",
    "observations, and a training set, containing the remaining observations."
   ]
  },
  {
   "cell_type": "code",
   "execution_count": null,
   "metadata": {
    "collapsed": false
   },
   "outputs": [],
   "source": [
    "test=1:1000\n",
    "train2.X=standardized.X[-test,]\n",
    "test2.X=standardized.X[test,]\n",
    "train2.Y=Caravan$Purchase[-test]\n",
    "test2.Y=Caravan$Purchase[test]"
   ]
  },
  {
   "cell_type": "markdown",
   "metadata": {},
   "source": [
    "The vector test is numeric, with values from 1 through 1,000. Typing\n",
    "${\\tt standardized.X[test,]}$ yields the submatrix of the data containing the observations\n",
    "whose indices range from 1 to 1, 000, whereas typing\n",
    "${\\tt standardized.X[-test,]}$ yields the submatrix containing the observations\n",
    "whose indices do **not** range from 1 to 1, 000.\n",
    "\n",
    "Let's fit a ${\\tt KNN}$ model on the training data using $K = 1$, and evaluate its\n",
    "performance on the test data."
   ]
  },
  {
   "cell_type": "code",
   "execution_count": null,
   "metadata": {
    "collapsed": false
   },
   "outputs": [],
   "source": [
    "set.seed(1)\n",
    "knn.pred=knn(train2.X,test2.X,train2.Y,k=1)\n",
    "mean(test2.Y!=knn.pred) # KNN error rate\n",
    "mean(test2.Y!=\"No\")     # Percent of people who purchase insurance"
   ]
  },
  {
   "cell_type": "markdown",
   "metadata": {},
   "source": [
    "The KNN error rate on the 1,000 test observations is just under 12%. At first glance, this may appear to be fairly good. However, since only 6% of customers purchased insurance, we could get the error rate down to 6% by always predicting ${\\tt No}$ regardless of the values of the predictors!\n",
    "\n",
    "Suppose that there is some non-trivial cost to trying to sell insurance\n",
    "to a given individual. For instance, perhaps a salesperson must visit each\n",
    "potential customer. If the company tries to sell insurance to a random\n",
    "selection of customers, then the success rate will be only 6%, which may\n",
    "be far too low given the costs involved. \n",
    "\n",
    "Instead, the company would like\n",
    "to try to sell insurance only to customers who are likely to buy it. So the\n",
    "overall error rate is not of interest. Instead, the fraction of individuals that\n",
    "are correctly predicted to buy insurance is of interest.\n",
    "\n",
    "It turns out that ${\\tt KNN}$ with $K = 1$ does far better than random guessing\n",
    "among the customers that are predicted to buy insurance:"
   ]
  },
  {
   "cell_type": "code",
   "execution_count": null,
   "metadata": {
    "collapsed": false
   },
   "outputs": [],
   "source": [
    "table(knn.pred,test2.Y)"
   ]
  },
  {
   "cell_type": "markdown",
   "metadata": {},
   "source": [
    "Among 77 such\n",
    "customers, 9, or 11.7%, actually do purchase insurance. This is double the\n",
    "rate that one would obtain from random guessing. Let's see if increasing $K$ helps! Try out a few different $K$ values below. Feeling adventurous? Write a function that figures out the best value for $K$."
   ]
  },
  {
   "cell_type": "code",
   "execution_count": null,
   "metadata": {
    "collapsed": false
   },
   "outputs": [],
   "source": [
    "set.seed(1)\n",
    "# Your code here"
   ]
  },
  {
   "cell_type": "markdown",
   "metadata": {},
   "source": [
    "It appears that ${\\tt KNN}$ is finding some real patterns in a difficult data set! To get credit for this lab, post a response to the Piazza prompt available at: https://piazza.com/class/igwiv4w3ctb6rg?cid=10"
   ]
  }
 ],
 "metadata": {
  "kernelspec": {
   "display_name": "R",
   "language": "R",
   "name": "ir"
  },
  "language_info": {
   "codemirror_mode": "r",
   "file_extension": ".r",
   "mimetype": "text/x-r-source",
   "name": "R",
   "pygments_lexer": "r",
   "version": "3.2.2"
  }
 },
 "nbformat": 4,
 "nbformat_minor": 0
}
